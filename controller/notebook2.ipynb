{
 "cells": [
  {
   "cell_type": "code",
   "execution_count": null,
   "metadata": {},
   "outputs": [],
   "source": [
    "import pandas as pd\n",
    "from sklearn.model_selection import train_test_split\n",
    "from sklearn.preprocessing import StandardScaler\n",
    "from sklearn.linear_model import LinearRegression\n",
    "from sklearn.tree import DecisionTreeRegressor\n",
    "from sklearn.ensemble import RandomForestRegressor\n",
    "from sklearn.metrics import mean_squared_error\n",
    "import joblib\n",
    "\n",
    "\n",
    "DATA_FRAME = pd.read_csv(\"../data/dataset_2.csv\")\n",
    "DATA_FRAME"
   ]
  },
  {
   "cell_type": "code",
   "execution_count": null,
   "metadata": {},
   "outputs": [],
   "source": [
    "# DATA_FRAME.drop(\"Unnamed: 0\",inplace=True)\n",
    "DATA_FRAME.drop(DATA_FRAME.columns[DATA_FRAME.columns.str.contains('Unnamed', case=False)], axis=1, inplace=True)\n",
    "\n",
    "DATA_FRAME"
   ]
  },
  {
   "cell_type": "code",
   "execution_count": null,
   "metadata": {},
   "outputs": [],
   "source": [
    "X = DATA_FRAME.drop(columns=['Yeild (Q/acre)'])  # Features\n",
    "X.columns = ['Rainfall (mm)', 'Fertilizer', 'Temperature', 'Nitrogen (N)', 'Phosphorus (P)', 'Potassium (K)']\n",
    "y = DATA_FRAME['Yeild (Q/acre)']"
   ]
  },
  {
   "cell_type": "code",
   "execution_count": null,
   "metadata": {},
   "outputs": [],
   "source": [
    "# Split the data into training and testing sets\n",
    "X_train, x_test, y_train, y_test = train_test_split(X, y, test_size=0.2, random_state=42)\n",
    "\n",
    "scaler = StandardScaler()\n",
    "X_train_scaled = scaler.fit_transform(X_train)\n",
    "X_test_scaled = scaler.transform(x_test)"
   ]
  },
  {
   "cell_type": "code",
   "execution_count": null,
   "metadata": {},
   "outputs": [],
   "source": [
    "# Train the Linear Regression model\n",
    "linear_regression_model = LinearRegression()\n",
    "decision_tree_regressor_model = DecisionTreeRegressor()\n",
    "random_forest_model = RandomForestRegressor(n_estimators=100)"
   ]
  },
  {
   "cell_type": "code",
   "execution_count": null,
   "metadata": {},
   "outputs": [],
   "source": [
    "linear_regression_model.fit(X_train_scaled, y_train)\n",
    "decision_tree_regressor_model.fit(X_train_scaled, y_train)\n",
    "random_forest_model.fit(X_train_scaled, y_train)"
   ]
  },
  {
   "cell_type": "code",
   "execution_count": null,
   "metadata": {},
   "outputs": [],
   "source": [
    "# #Predict the Model\n",
    "# LR_Prediction =linear_regression_model.predict(X_test_scaled)\n",
    "# DT_Prediction =decision_tree_regressor_model.predict(X_test_scaled)\n",
    "# RF_Prediction =random_forest_model.predict(X_test_scaled)"
   ]
  },
  {
   "cell_type": "code",
   "execution_count": null,
   "metadata": {},
   "outputs": [],
   "source": [
    "# # Calculation of Model Accuracy\n",
    "# LR_Score=mean_squared_error(y_test, LR_Prediction)\n",
    "# DT_score=mean_squared_error(y_test, DT_Prediction)\n",
    "# RF_score=mean_squared_error(y_test, RF_Prediction)\n",
    "# # Display Accuracy\n",
    "\n",
    "# print (\"Linear Regression mean_squared_error =\", LR_Prediction)\n",
    "# print (\"Decistion Tree mean_squared_error =\", DT_score)\n",
    "# print (\"Random Forest mean_squared_error =\", RF_score)"
   ]
  },
  {
   "cell_type": "code",
   "execution_count": null,
   "metadata": {},
   "outputs": [],
   "source": [
    "#Import Libraries\n",
    "import pandas as pd\n",
    "from sklearn.tree import DecisionTreeRegressor\n",
    "import joblib\n",
    "#Import the Dataset\n",
    "\n",
    "DATA_FRAME = pd.read_csv(\"../data/dataset_2.csv\")\n",
    "\n",
    "DATA_FRAME.drop(DATA_FRAME.columns[DATA_FRAME.columns.str.contains('Unnamed', case=False)], axis=1, inplace=True)\n",
    "\n",
    "# Learning with the Model\n",
    "X = DATA_FRAME.drop(columns=['Yeild (Q/acre)'])  # Features\n",
    "X.columns = ['Rainfall (mm)', 'Fertilizer', 'Temperature', 'Nitrogen (N)', 'Phosphorus (P)', 'Potassium (K)']\n",
    "y = DATA_FRAME['Yeild (Q/acre)']\n",
    "\n",
    "model = DecisionTreeRegressor()\n",
    "model.fit(X.values, y)\n",
    "\n",
    "#Create a Persisting Model\n",
    "joblib.dump(model, 'crop-predictor.joblib')"
   ]
  },
  {
   "cell_type": "code",
   "execution_count": null,
   "metadata": {},
   "outputs": [],
   "source": [
    "model=joblib.load('model/crop-predictor.joblib')\n",
    "predictions = model.predict([[425,60,39,65,19,17]])\n",
    "print(\"The Grade you will obtain is:\",predictions[0])"
   ]
  }
 ],
 "metadata": {
  "kernelspec": {
   "display_name": "venv",
   "language": "python",
   "name": "python3"
  },
  "language_info": {
   "codemirror_mode": {
    "name": "ipython",
    "version": 3
   },
   "file_extension": ".py",
   "mimetype": "text/x-python",
   "name": "python",
   "nbconvert_exporter": "python",
   "pygments_lexer": "ipython3",
   "version": "3.11.8"
  }
 },
 "nbformat": 4,
 "nbformat_minor": 2
}
