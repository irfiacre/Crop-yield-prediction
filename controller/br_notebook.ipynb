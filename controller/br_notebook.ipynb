{
 "cells": [
  {
   "cell_type": "markdown",
   "metadata": {},
   "source": [
    "### Evaluating Training Algorithms"
   ]
  },
  {
   "cell_type": "code",
   "execution_count": null,
   "metadata": {},
   "outputs": [],
   "source": [
    "# Import all libraries\n",
    "import pandas as pd\n",
    "from sklearn.tree import DecisionTreeClassifier\n",
    "from sklearn.linear_model import LogisticRegression\n",
    "from sklearn import svm\n",
    "from sklearn.ensemble import RandomForestClassifier\n",
    "from sklearn.model_selection import train_test_split\n",
    "from sklearn.metrics import accuracy_score\n",
    "from sklearn.impute import SimpleImputer"
   ]
  },
  {
   "cell_type": "code",
   "execution_count": null,
   "metadata": {},
   "outputs": [],
   "source": [
    "# Data Cleaning\n",
    "DATA_FRAME = pd.read_csv('../data/breast_cancer.csv')\n",
    "imputer = SimpleImputer(strategy='median')\n",
    "\n",
    "X=DATA_FRAME.drop(columns=['id','diagnosis'])\n",
    "y=DATA_FRAME['diagnosis']\n",
    "X_imputed = imputer.fit_transform(X)\n",
    "\n",
    "DATA_FRAME"
   ]
  },
  {
   "cell_type": "code",
   "execution_count": null,
   "metadata": {},
   "outputs": [],
   "source": [
    "# Data Modeling\n",
    "X_for_train,x_for_test,y_for_train,y_for_test=train_test_split(X_imputed,y,test_size=0.2)\n",
    "\n",
    "Decision_Tree_Model=DecisionTreeClassifier()\n",
    "Logistic_Regression_Model=LogisticRegression(solver='lbfgs',max_iter=10000)\n",
    "Support_Vector_Machine_Model=svm.SVC(kernel='linear')\n",
    "Random_Forest_Model=RandomForestClassifier(n_estimators=100)\n",
    "\n",
    "# Training and measuring accuracy\n",
    "Decision_Tree_Model.fit(X_for_train,y_for_train)\n",
    "Logistic_Regression_Model.fit(X_for_train,y_for_train)\n",
    "Support_Vector_Machine_Model.fit(X_for_train,y_for_train)\n",
    "Random_Forest_Model.fit(X_for_train,y_for_train)\n",
    "\n",
    "DT_prediction=Decision_Tree_Model.predict(x_for_test)\n",
    "LR_prediction=Logistic_Regression_Model.predict(x_for_test)\n",
    "SVM_prediction=Support_Vector_Machine_Model.predict(x_for_test)\n",
    "RF_prediction=Random_Forest_Model.predict(x_for_test)\n",
    "\n",
    "# Calculating accuracy\n",
    "DT_score=accuracy_score(y_for_test,DT_prediction)\n",
    "LR_score=accuracy_score(y_for_test,LR_prediction)\n",
    "SVM_score=accuracy_score(y_for_test,SVM_prediction)\n",
    "RF_score=accuracy_score(y_for_test,RF_prediction)\n",
    "\n",
    "print (\"Decision Tree accuracy =\", DT_score*100,\"%\")\n",
    "print (\"Logistic Regression accuracy =\", LR_score*100,\"%\")\n",
    "print (\"Suport Vector Machine accuracy =\", SVM_score*100,\"%\")\n",
    "print (\"Random Forest accuracy =\", RF_score*100,\"%\")"
   ]
  },
  {
   "cell_type": "markdown",
   "metadata": {},
   "source": [
    "### Creating Persistent Model"
   ]
  },
  {
   "cell_type": "code",
   "execution_count": null,
   "metadata": {},
   "outputs": [],
   "source": [
    "# Import libraries\n",
    "import pandas as pd\n",
    "from sklearn.ensemble import RandomForestClassifier\n",
    "import joblib\n",
    "from sklearn.impute import SimpleImputer\n",
    "\n",
    "# Data cleaning\n",
    "DATA_FRAME = pd.read_csv('../data/breast_cancer.csv')\n",
    "imputer = SimpleImputer(strategy='median')\n",
    "\n",
    "X=DATA_FRAME.drop(columns=['id','diagnosis'])\n",
    "y=DATA_FRAME['diagnosis']\n",
    "X_imputed = imputer.fit_transform(X)\n",
    "\n",
    "# Data Modeling\n",
    "model=RandomForestClassifier(n_estimators=100)\n",
    "model.fit(X_imputed,y)\n",
    "\n",
    "# Creating a Persisting model\n",
    "# joblib.dump(model,'model/breast_cancer_prediction_model.joblib')"
   ]
  },
  {
   "cell_type": "code",
   "execution_count": null,
   "metadata": {},
   "outputs": [],
   "source": [
    "# Testing if persistent model works accurately\n",
    "\n",
    "model=joblib.load('model/breast_cancer_prediction_model.joblib')\n",
    "test_data = [9.173,13.86,59.2,260.9,0.07721,0.08751,0.05988,0.0218,0.2341,0.06963,0.4098,2.265,2.608,23.52,0.008738,0.03938,0.04312,0.0156,0.04192,0.005822,10.01,19.23,65.59,310.1,0.09836,0.1678,0.1397,0.05087,0.3282,0.0849]\n",
    "predictions = model.predict([test_data])\n",
    "print(\"The Prediction:\",predictions[0])\n"
   ]
  }
 ],
 "metadata": {
  "kernelspec": {
   "display_name": "venv",
   "language": "python",
   "name": "python3"
  },
  "language_info": {
   "codemirror_mode": {
    "name": "ipython",
    "version": 3
   },
   "file_extension": ".py",
   "mimetype": "text/x-python",
   "name": "python",
   "nbconvert_exporter": "python",
   "pygments_lexer": "ipython3",
   "version": "3.11.8"
  }
 },
 "nbformat": 4,
 "nbformat_minor": 2
}
